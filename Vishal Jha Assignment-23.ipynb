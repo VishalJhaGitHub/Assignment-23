{
 "cells": [
  {
   "cell_type": "code",
   "execution_count": null,
   "id": "71057a82-f23d-4c16-b2d6-983b8086bbd0",
   "metadata": {},
   "outputs": [],
   "source": [
    "#1. List any five functions of the pandas library with execution.\n",
    "\n",
    "#Ans\n",
    "\n",
    "#1 - read_csv() - This function is used to read data from a CSV file and create a pandas DataFrame object.\n",
    "\n",
    "import pandas as pd\n",
    "data = pd.read_csv('filename.csv')\n",
    "\n",
    "#2 - head() - This function is used to view the first few rows of a pandas DataFrame.\n",
    "\n",
    "import pandas as pd\n",
    "data = pd.read_csv('filename.csv')\n",
    "data.head()\n",
    "\n",
    "#3 - describe() - This function is used to generate descriptive statistics of a pandas DataFrame.\n",
    "\n",
    "import pandas as pd\n",
    "data = pd.read_csv('filename.csv')\n",
    "data.describe()\n",
    "\n",
    "#4 - groupby() - This function is used to group data in a pandas DataFrame based on one or more columns.\n",
    "\n",
    "import pandas as pd\n",
    "data = pd.read_csv('filename.csv')\n",
    "grouped_data = data.groupby('column_name')\n",
    "\n",
    "#5 - to_csv() - This function is used to write data from a pandas DataFrame to a CSV file.\n",
    "\n",
    "import pandas as pd\n",
    "data = pd.read_csv('filename.csv')\n",
    "data.to_csv('new_filename.csv', index=False)"
   ]
  },
  {
   "cell_type": "code",
   "execution_count": 3,
   "id": "8f478710-20cb-4b88-b82c-3d245a772152",
   "metadata": {},
   "outputs": [
    {
     "name": "stdout",
     "output_type": "stream",
     "text": [
      "Original DataFrame:\n",
      "    A    B     C\n",
      "0  10  100  1000\n",
      "1  20  200  2000\n",
      "2  30  300  3000\n",
      "\n",
      "New DataFrame:\n",
      "    A    B     C\n",
      "1  10  100  1000\n",
      "3  20  200  2000\n",
      "5  30  300  3000\n"
     ]
    }
   ],
   "source": [
    "#2. Given a Pandas DataFrame df with columns 'A', 'B', and 'C', write a Python function to re-index the DataFrame with a new index that starts from 1 and increments by 2 for each row.\n",
    "\n",
    "#Ans\n",
    "\n",
    "import pandas as pd\n",
    "def reindex_df(df):\n",
    "    new_index = range(1, 2*len(df)+1, 2)\n",
    "    df = df.set_index(pd.Index(new_index))\n",
    "    return df\n",
    "# Create a sample DataFrame\n",
    "df = pd.DataFrame({'A': [10, 20, 30], 'B': [100, 200, 300], 'C': [1000, 2000, 3000]})\n",
    "# Call the reindex_df function\n",
    "df_new = reindex_df(df)\n",
    "# Print the original and new DataFrames\n",
    "print(\"Original DataFrame:\")\n",
    "print(df)\n",
    "print(\"\\nNew DataFrame:\")\n",
    "print(df_new)"
   ]
  },
  {
   "cell_type": "code",
   "execution_count": 4,
   "id": "6cb6ae46-bddb-4ea0-9b5d-590743cb29b1",
   "metadata": {},
   "outputs": [
    {
     "name": "stdout",
     "output_type": "stream",
     "text": [
      "Sum of first three values in 'Values' column: 60\n"
     ]
    }
   ],
   "source": [
    "#3. You have a Pandas DataFrame df with a column named 'Values'. Write a Python function that iterates over the DataFrame and calculates the sum of the first three values in the 'Values' column. The function should print the sum to the console.\n",
    "\n",
    "#Ans\n",
    "\n",
    "import pandas as pd\n",
    "# Define the sum_first_three() function\n",
    "def sum_first_three(df):\n",
    "    values_sum = 0\n",
    "    for i, row in df.iterrows():\n",
    "        values_sum += row['Values']\n",
    "        if i == 2:\n",
    "            break\n",
    "    print(\"Sum of first three values in 'Values' column:\", values_sum)\n",
    "# Create a sample DataFrame\n",
    "df = pd.DataFrame({'Values': [10, 20, 30, 40, 50]})\n",
    "# Call the sum_first_three function\n",
    "sum_first_three(df)"
   ]
  },
  {
   "cell_type": "code",
   "execution_count": 6,
   "id": "497f2f5e-d9b3-4c71-906e-dd988de7c9b6",
   "metadata": {},
   "outputs": [
    {
     "name": "stdout",
     "output_type": "stream",
     "text": [
      "                                Text  Word_Count\n",
      "0         This is a sample sentence.           5\n",
      "1                   Another example.           2\n",
      "2  A third sentence with more words.           6\n"
     ]
    }
   ],
   "source": [
    "#4. Given a Pandas DataFrame df with a column 'Text', write a Python function to create a new column 'Word_Count' that contains the number of words in each row of the 'Text' column.\n",
    "\n",
    "#Ans\n",
    "\n",
    "import pandas as pd\n",
    "# Define the add_word_count() function\n",
    "def add_word_count(df):\n",
    "    df['Word_Count'] = df['Text'].apply(lambda x: len(x.split()))\n",
    "    return df\n",
    "# Create a sample DataFrame\n",
    "df = pd.DataFrame({'Text': ['This is a sample sentence.', 'Another example.', 'A third sentence with more words.']})\n",
    "# Call the add_word_count() function\n",
    "df = add_word_count(df)\n",
    "# Print the modified DataFrame\n",
    "print(df)"
   ]
  },
  {
   "cell_type": "code",
   "execution_count": 1,
   "id": "a138c4e0-97bb-42d7-9e2f-14d0da174d1b",
   "metadata": {},
   "outputs": [],
   "source": [
    "#5. How are DataFrame.size() and DataFrame.shape() different?\n",
    "\n",
    "#Ans\n",
    "\n",
    "#DataFrame.size returns the total number of elements in the DataFrame, which is the product of the number of rows and the number of columns.\n",
    "\n",
    "#DataFrame.shape returns a tuple that contains the number of rows and the number of columns in the DataFrame, respectively."
   ]
  },
  {
   "cell_type": "code",
   "execution_count": null,
   "id": "c5220a5d-45a0-4cf5-8978-5dc119148ac8",
   "metadata": {},
   "outputs": [],
   "source": [
    "#6. Which function of pandas do we use to read an excel file?\n",
    "\n",
    "#Ans\n",
    "\n",
    "#To read an Excel file in pandas, you can use the read_excel() function. This function reads the data from an Excel file and returns a DataFrame.\n",
    "\n",
    "#Example\n",
    "\n",
    "import pandas as pd\n",
    "df = pd.read_excel('file.xlsx', sheet_name='Sheet1')\n",
    "\n",
    "#In the example above, read_excel() reads the data from the file file.xlsx and returns a DataFrame. The sheet_name parameter specifies which sheet in the Excel file to read. If you don't specify the sheet name, the function reads the first sheet by default.\n",
    "\n",
    "#Note that to use read_excel(), you need to have the xlrd package installed. You can install it using pip by running pip install xlrd."
   ]
  },
  {
   "cell_type": "code",
   "execution_count": 2,
   "id": "8efd7b2d-a465-4e7d-9b12-e771cbda7f05",
   "metadata": {},
   "outputs": [
    {
     "name": "stdout",
     "output_type": "stream",
     "text": [
      "                  Email  Username\n",
      "0  john.doe@example.com  john.doe\n",
      "1  jane.doe@example.com  jane.doe\n"
     ]
    }
   ],
   "source": [
    "#7. You have a Pandas DataFrame df that contains a column named 'Email' that contains email addresses in the format 'username@domain.com'. Write a Python function that creates a new column 'Username' in df that contains only the username part of each email address.\n",
    "\n",
    "#The username is the part of the email address that appears before the '@' symbol. For example, if the email address is 'john.doe@example.com', the 'Username' column should contain 'john.doe'. Your function should extract the username from each email address and store it in the new 'Username' column.\n",
    "\n",
    "#Ans\n",
    "\n",
    "import pandas as pd\n",
    "# Example DataFrame with email addresses\n",
    "df = pd.DataFrame({'Email': ['john.doe@example.com', 'jane.doe@example.com']})\n",
    "# Function to extract the username from the email address\n",
    "def extract_username(df):\n",
    "    df['Username'] = df['Email'].str.split('@').str.get(0)\n",
    "    return df\n",
    "# Call the function to create the new 'Username' column\n",
    "df = extract_username(df)\n",
    "# Print the updated DataFrame\n",
    "print(df)"
   ]
  },
  {
   "cell_type": "code",
   "execution_count": 3,
   "id": "61e7323f-dc91-4bf0-a244-603feb5ba9e1",
   "metadata": {},
   "outputs": [
    {
     "name": "stdout",
     "output_type": "stream",
     "text": [
      "   A  B  C\n",
      "1  8  2  7\n",
      "2  6  9  4\n",
      "4  9  1  2\n"
     ]
    }
   ],
   "source": [
    "#8. You have a Pandas DataFrame df with columns 'A', 'B', and 'C'. Write a Python function that selects all rows where the value in column 'A' is greater than 5 and the value in column 'B' is less than 10. The function should return a new DataFrame that contains only the selected rows.\n",
    "\n",
    "#For example, if df contains the following values:\n",
    "\n",
    "#A B C\n",
    "\n",
    "#0 3 5 1\n",
    "\n",
    "#1 8 2 7\n",
    "\n",
    "#2 6 9 4\n",
    "\n",
    "#3 2 3 5\n",
    "\n",
    "#4 9 1 2\n",
    "\n",
    "#Your function should select the following rows: A B C\n",
    "\n",
    "#1 8 2 7\n",
    "\n",
    "#4 9 1 2\n",
    "\n",
    "#The function should return a new DataFrame that contains only the selected rows.\n",
    "\n",
    "#Ans\n",
    "\n",
    "import pandas as pd\n",
    "# create a sample dataframe\n",
    "df = pd.DataFrame({\n",
    "    'A': [3, 8, 6, 2, 9],\n",
    "    'B': [5, 2, 9, 3, 1],\n",
    "    'C': [1, 7, 4, 5, 2]\n",
    "})\n",
    "# select rows where A > 5 and B < 10\n",
    "selected_df = df[(df['A'] > 5) & (df['B'] < 10)]\n",
    "# print the selected rows\n",
    "print(selected_df)"
   ]
  },
  {
   "cell_type": "code",
   "execution_count": 6,
   "id": "5cf85dba-0bc2-44b4-b6d2-2246c4219065",
   "metadata": {},
   "outputs": [
    {
     "name": "stdout",
     "output_type": "stream",
     "text": [
      "{'mean': 3.0, 'median': 3.0, 'std_dev': 1.5811388300841898}\n"
     ]
    }
   ],
   "source": [
    "#9. Given a Pandas DataFrame df with a column 'Values', write a Python function to calculate the mean, median, and standard deviation of the values in the 'Values' column.\n",
    "\n",
    "#Ans\n",
    "\n",
    "import pandas as pd\n",
    "def calculate_stats(df):\n",
    "    # Calculate the mean, median, and standard deviation of the 'Values' column\n",
    "    mean = df['Values'].mean()\n",
    "    median = df['Values'].median()\n",
    "    std_dev = df['Values'].std()\n",
    "    # Return a dictionary with the calculated statistics\n",
    "    return {'mean': mean, 'median': median, 'std_dev': std_dev}\n",
    "# Create a DataFrame\n",
    "df = pd.DataFrame({'Values': [1, 2, 3, 4, 5]})\n",
    "# Calculate statistics\n",
    "stats = calculate_stats(df)\n",
    "# Print statistics\n",
    "print(stats)"
   ]
  },
  {
   "cell_type": "code",
   "execution_count": 8,
   "id": "8e35c1c9-ccb7-4cf0-8221-190cd74ea03d",
   "metadata": {},
   "outputs": [
    {
     "name": "stdout",
     "output_type": "stream",
     "text": [
      "        Date  Sales  MovingAverage\n",
      "0 2023-02-16    100          100.0\n",
      "1 2023-02-17    200          150.0\n",
      "2 2023-02-18    300          200.0\n",
      "3 2023-02-19    400          250.0\n",
      "4 2023-02-20    500          300.0\n",
      "5 2023-02-21    600          350.0\n",
      "6 2023-02-22    700          400.0\n",
      "7 2023-02-23    800          500.0\n",
      "8 2023-02-24    900          600.0\n",
      "9 2023-02-25   1000          700.0\n"
     ]
    }
   ],
   "source": [
    "#10. Given a Pandas DataFrame df with a column 'Sales' and a column 'Date', write a Python function to create a new column 'MovingAverage' that contains the moving average of the sales for the past 7 days for each row in the DataFrame. The moving average should be calculated using a window of size 7 and should include the current day.\n",
    "\n",
    "#Ans\n",
    "\n",
    "import pandas as pd\n",
    "def add_moving_average(df):\n",
    "    # sort the DataFrame by the 'Date' column\n",
    "    df = df.sort_values(by='Date')\n",
    "    # calculate the rolling mean using a window size of 7 and including the current day\n",
    "    df['MovingAverage'] = df['Sales'].rolling(window=7, min_periods=1).mean()\n",
    "    return df\n",
    "# create a sample DataFrame\n",
    "df = pd.DataFrame({\n",
    "    'Date': pd.date_range('2023-02-16', periods=10, freq='D'),\n",
    "    'Sales': [100, 200, 300, 400, 500, 600, 700, 800, 900, 1000]\n",
    "})\n",
    "# add the moving average column\n",
    "df = add_moving_average(df)\n",
    "# print the result\n",
    "print(df)"
   ]
  },
  {
   "cell_type": "code",
   "execution_count": 22,
   "id": "dc5679fb-42ff-4c66-b2a3-56e9369b1e47",
   "metadata": {},
   "outputs": [
    {
     "name": "stdout",
     "output_type": "stream",
     "text": [
      "        Date    Weekday\n",
      "0 2023-01-01     Sunday\n",
      "1 2023-01-02     Monday\n",
      "2 2023-01-03    Tuesday\n",
      "3 2023-01-04  Wednesday\n",
      "4 2023-01-05   Thursday\n"
     ]
    }
   ],
   "source": [
    "#11. You have a Pandas DataFrame df with a column 'Date'. Write a Python function that creates a new column 'Weekday' in the DataFrame. The 'Weekday' column should contain the weekday name (e.g. Monday, Tuesday) corresponding to each date in the 'Date' column.\n",
    "\n",
    "#For example, if df contains the following values:\n",
    "\n",
    "#Date\n",
    "\n",
    "#0 2023-01-01\n",
    "\n",
    "#1 2023-01-02\n",
    "\n",
    "#2 2023-01-03\n",
    "\n",
    "#3 2023-01-04\n",
    "\n",
    "#4 2023-01-05\n",
    "\n",
    "#Your function should create the following DataFrame:\n",
    "\n",
    "#Date Weekday\n",
    "\n",
    "#0 2023-01-01 Sunday\n",
    "\n",
    "#1 2023-01-02 Monday\n",
    "\n",
    "#2 2023-01-03 Tuesday\n",
    "\n",
    "#3 2023-01-04 Wednesday\n",
    "\n",
    "#4 2023-01-05 Thursday\n",
    "\n",
    "#The function should return the modified DataFrame.\n",
    "\n",
    "#Ans\n",
    "\n",
    "import pandas as pd\n",
    "# Create a sample DataFrame\n",
    "df = pd.DataFrame({'Date': ['2023-01-01', '2023-01-02', '2023-01-03', '2023-01-04', '2023-01-05']})\n",
    "df['Date'] = pd.to_datetime(df['Date'])\n",
    "# Function to add 'Weekday' column\n",
    "def add_weekday_column(df):\n",
    "    df['Weekday'] = df['Date'].dt.day_name()\n",
    "    return df\n",
    "# Call the function and print the output\n",
    "df = add_weekday_column(df)\n",
    "print(df)"
   ]
  },
  {
   "cell_type": "code",
   "execution_count": 23,
   "id": "ca89c961-b2b1-46f6-98c2-c2be05cad02e",
   "metadata": {},
   "outputs": [
    {
     "name": "stdout",
     "output_type": "stream",
     "text": [
      "        Date\n",
      "0 2023-01-01\n",
      "1 2023-01-05\n",
      "2 2023-01-15\n",
      "3 2023-01-20\n"
     ]
    }
   ],
   "source": [
    "#12. Given a Pandas DataFrame df with a column 'Date' that contains timestamps, write a Python function to select all rows where the date is between '2023-01-01' and '2023-01-31'.\n",
    "\n",
    "#Ans\n",
    "\n",
    "import pandas as pd\n",
    "# Create a sample DataFrame\n",
    "df = pd.DataFrame({'Date': ['2023-01-01', '2023-01-05', '2023-01-15', '2023-01-20', '2023-02-01']})\n",
    "df['Date'] = pd.to_datetime(df['Date'])\n",
    "# Function to select rows where the date is between '2023-01-01' and '2023-01-31'\n",
    "def select_january_data(df):\n",
    "    start_date = pd.Timestamp('2023-01-01')\n",
    "    end_date = pd.Timestamp('2023-01-31')\n",
    "    return df.loc[(df['Date'] >= start_date) & (df['Date'] <= end_date)]\n",
    "# Call the function and print the output\n",
    "january_data = select_january_data(df)\n",
    "print(january_data)"
   ]
  },
  {
   "cell_type": "code",
   "execution_count": null,
   "id": "c3d15cb8-43fe-4c01-b1b3-2e37fa0004dc",
   "metadata": {},
   "outputs": [],
   "source": [
    "#13. To use the basic functions of pandas, what is the first and foremost necessary library that needs to be imported?\n",
    "\n",
    "#Ans\n",
    "\n",
    "#The first and foremost necessary library that needs to be imported to use the basic functions of pandas is the pandas library itself.\n",
    "\n",
    "#To import pandas in Python, you can use the following command:\n",
    "\n",
    "import pandas as pd\n",
    "\n",
    "#The pd alias is commonly used for the pandas library, so you can reference pandas functions using pd throughout your code."
   ]
  },
  {
   "cell_type": "code",
   "execution_count": null,
   "id": "e53e3b33-93c7-47a7-b7f6-6a4384850d59",
   "metadata": {},
   "outputs": [],
   "source": []
  }
 ],
 "metadata": {
  "kernelspec": {
   "display_name": "Python 3 (ipykernel)",
   "language": "python",
   "name": "python3"
  },
  "language_info": {
   "codemirror_mode": {
    "name": "ipython",
    "version": 3
   },
   "file_extension": ".py",
   "mimetype": "text/x-python",
   "name": "python",
   "nbconvert_exporter": "python",
   "pygments_lexer": "ipython3",
   "version": "3.10.8"
  }
 },
 "nbformat": 4,
 "nbformat_minor": 5
}
